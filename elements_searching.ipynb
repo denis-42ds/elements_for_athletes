{
 "cells": [
  {
   "cell_type": "markdown",
   "id": "63bb080d-38a6-45fe-82cb-8743197165a1",
   "metadata": {},
   "source": [
    "# Поиск подходящих элементов программы для спортсменов\n",
    "\n",
    "**Описание проекта**\n",
    "\n",
    "Сервис  “Мой Чемпион” помогает спортивным школам фигурного катания,\n",
    "<br>тренерам мониторить результаты своих подопечных и планировать дальнейшее развитие спортсменов.\n",
    "\n",
    "**Цель**\n",
    "\n",
    "Создать модель, помогающую находить элементы, которые могут быть успешно исполнены спортсменом на соревновании. \n",
    "<br>Сервис будет прогнозировать прогресс и возможное выполнение тех или иных элементов программы\n",
    "<br>по истории предыдущих выступлений и выполнения элементов на соревнованиях.\n",
    "\n",
    "**План выполнения**\n",
    "\n",
    "- Объединение данных – спортсмены, юниты, соревнования, сегменты, школы, тренеры;\n",
    "- Проведение анализа данных;\n",
    "- Выделение всех элементов фигурного катания, представленых в виде объединенной строки с набором элементов, например `2F!<<+2Lo<<CCoSp2V*`;\n",
    "  - Актуальный список элементов можно посмотреть [здесь](https://eislauf-union.de/files/users/997/Elemente-Liste2023_24.pdf) - категория `Single skating`, а также специальные отметки `Special codes` в конце документа;\n",
    "- Выделение элементов успешно выполненных и с погрешностями (имеют специальные пометки);\n",
    "- Агрегация датасета и подготовка обучающих признаков;\n",
    "- Создание модели для предсказания вероятности успешного выполнения элементов;\n",
    "- Улучшение решения: анализ признаков, выявление ошибок и слабых сторон модели;\n",
    "- Создание функции (класса) для применения в сервисе:\n",
    "  - возможность регулировки длины истории спортсмена для построения прогноза,\n",
    "  - добавление запланированной программы элементов в качестве признака;\n",
    "- Проведение тестирования решения;\n",
    "- Создание документации;\n",
    "- Заключение (отчёт по проделанной работе)."
   ]
  },
  {
   "cell_type": "markdown",
   "id": "e25c97d5-aff7-4266-b739-808ee0af12d6",
   "metadata": {},
   "source": [
    "## Setting up the work environment"
   ]
  },
  {
   "cell_type": "code",
   "execution_count": 15,
   "id": "5f8a74c7-6a8b-41ee-adf5-c2545f116bbb",
   "metadata": {},
   "outputs": [],
   "source": [
    "# !pip install pandas\n",
    "# !pip install python-dotenv\n",
    "# !pip install seaborn\n",
    "# !pip install psycopg2-binary\n",
    "!pip freeze > requirements.txt"
   ]
  },
  {
   "cell_type": "code",
   "execution_count": 12,
   "id": "85d5b69c-2947-41ad-a84c-c9f387fc18bb",
   "metadata": {},
   "outputs": [],
   "source": [
    "import os\n",
    "import random\n",
    "import numpy as np\n",
    "import pandas as pd\n",
    "import seaborn as sns\n",
    "\n",
    "from dotenv import load_dotenv\n",
    "# os.environ['VIRTUAL_ENV']"
   ]
  },
  {
   "cell_type": "markdown",
   "id": "9a5b5561-3818-46c1-a086-64e34dd110f9",
   "metadata": {},
   "source": [
    "Declaring Global Variables"
   ]
  },
  {
   "cell_type": "code",
   "execution_count": 16,
   "id": "910bf6cc-f208-4bd4-9811-b6a8396eb795",
   "metadata": {},
   "outputs": [],
   "source": [
    "ASSETS_DIR = 'assets'\n",
    "RANDOM_STATE = 42\n",
    "\n",
    "random.seed(RANDOM_STATE)\n",
    "np.random.seed(RANDOM_STATE)\n",
    "TRACKING_SERVER_PORT = 5000\n",
    "TRACKING_SERVER_HOST = \"127.0.0.1\"\n",
    "EXPERIMENT_NAME = 'goprotect_athletes'\n",
    "\n",
    "load_dotenv()\n",
    "sns.set_style(\"white\")\n",
    "sns.set_theme(style=\"whitegrid\")\n",
    "pd.options.display.max_rows = 20\n",
    "pd.options.display.max_columns = 30\n",
    "\n",
    "connection = {\"sslmode\": \"require\",\n",
    "              \"target_session_attrs\": \"read-write\"}\n",
    "postgres_credentials = {\"host\": os.getenv(\"DB_HOST\"),\n",
    "                        \"port\": os.getenv(\"DB_PORT\"),\n",
    "                        \"dbname\": os.getenv(\"DB_NAME\"),\n",
    "                        \"user\": os.getenv(\"DB_USERNAME\"),\n",
    "                        \"password\": os.getenv(\"DB_PASSWORD\")}"
   ]
  },
  {
   "cell_type": "markdown",
   "id": "0411c6d7-fe0e-4431-9a3f-c02a1cbcea07",
   "metadata": {},
   "source": [
    "Importing a Research Class"
   ]
  },
  {
   "cell_type": "code",
   "execution_count": 17,
   "id": "663b9013-dacc-4e1e-b7d1-28dfa4d320c3",
   "metadata": {},
   "outputs": [],
   "source": [
    "%load_ext autoreload\n",
    "%autoreload 2\n",
    "\n",
    "from research_class import DatasetExplorer"
   ]
  },
  {
   "cell_type": "markdown",
   "id": "1c599405-81f7-4bed-bf41-7d2367682b71",
   "metadata": {},
   "source": [
    "## EDA"
   ]
  },
  {
   "cell_type": "code",
   "execution_count": null,
   "id": "d16292be-dfd6-466e-aa8e-60fea64d8289",
   "metadata": {},
   "outputs": [],
   "source": []
  },
  {
   "cell_type": "code",
   "execution_count": null,
   "id": "899e9f52-724e-4fd7-97d7-2245a422299b",
   "metadata": {},
   "outputs": [],
   "source": []
  },
  {
   "cell_type": "code",
   "execution_count": null,
   "id": "1f193b44-0614-4d63-8aff-8d9fac780a4a",
   "metadata": {},
   "outputs": [],
   "source": []
  }
 ],
 "metadata": {
  "kernelspec": {
   "display_name": "Python 3 (ipykernel)",
   "language": "python",
   "name": "python3"
  },
  "language_info": {
   "codemirror_mode": {
    "name": "ipython",
    "version": 3
   },
   "file_extension": ".py",
   "mimetype": "text/x-python",
   "name": "python",
   "nbconvert_exporter": "python",
   "pygments_lexer": "ipython3",
   "version": "3.10.12"
  }
 },
 "nbformat": 4,
 "nbformat_minor": 5
}
