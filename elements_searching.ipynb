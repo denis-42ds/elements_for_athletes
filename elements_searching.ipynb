{
 "cells": [
  {
   "cell_type": "markdown",
   "id": "63bb080d-38a6-45fe-82cb-8743197165a1",
   "metadata": {},
   "source": [
    "# Поиск подходящих элементов программы для спортсменов\n",
    "\n",
    "**Описание проекта**\n",
    "\n",
    "Сервис  “Мой Чемпион” помогает спортивным школам фигурного катания,\n",
    "<br>тренерам мониторить результаты своих подопечных и планировать дальнейшее развитие спортсменов.\n",
    "\n",
    "**Цель**\n",
    "\n",
    "Создать модель, помогающую находить элементы, которые могут быть успешно исполнены спортсменом на соревновании. \n",
    "<br>Сервис будет прогнозировать прогресс и возможное выполнение тех или иных элементов программы\n",
    "<br>по истории предыдущих выступлений и выполнения элементов на соревнованиях.\n",
    "\n",
    "**Описание данных**\n",
    "\n",
    "- `units`\n",
    "  - `id`: идентификатор юнита\n",
    "  - `color`: категория\n",
    "  - `school_id`: идентификатор школы\n",
    "- `tournaments`\n",
    "  - `id`: идентификатор турнира\n",
    "  - `date_start`: дата начала\n",
    "  - `date_end`: дата завершения\n",
    "  - `origin_id`: место проведения\n",
    "- `total_scores`\n",
    "  - `id`: идентификатор выступления, джойнится с `tournament_scores.total_score_id`\n",
    "  - `unit_id`: идентификатор юнита, ключ к `units.id`\n",
    "  - `tournament_id`: идентификатор турнира, `tournaments.id`\n",
    "  - `components_score`: артистизм (мастерство, композиция, хореография)\n",
    "  - `base_score`: базовая оценка за элементы в выступлении (идеал)\n",
    "  - `elements_score`: реальная оценка всех выполненных элементов, base_score+goe\n",
    "  - `decreasings_score`: снижения оценок за ошибки\n",
    "  - `total_score`: `components_score` + `elements_score` + `decreasings_score` за выступление\n",
    "  - `starting_place`:\n",
    "  - `place`: занятое место в категории `category_name` + `segment_name`\n",
    "  - `segment_name`: название сегмента\n",
    "  - `info`: комментарии и пояснения к оценке\n",
    "  - `overall_place`: итоговое место в турнире\n",
    "  - `overall_total_score`: итоговая оценка за весь турнир\n",
    "  - `overall_place_str`: комментарии, пояснения\n",
    "- `tournament_scores`\n",
    "  - `id`: идентификатор оценки за конкретный элемент/комбинацию\n",
    "  - `total_score_id`: идентикатор выступления, ключ `total_scores.id`\n",
    "  - `title`: запись элемента или комбинации элементов с отметками об ошибках\n",
    "  - `decrease`: за что снижена оценка\n",
    "  - `base_score`: базовая оценка (идеал, цена данного элемента/комбинации, сложность)\n",
    "  - `goe`: Grade of Execute, качество исполнения, судейские надбавки/убавки\n",
    "  - `avg_score`: оценка за элемент/комбинацию (усредненная по судьям)\n",
    "\n",
    "**План выполнения**\n",
    "\n",
    "- Объединение данных – спортсмены, юниты, соревнования, сегменты, школы, тренеры;\n",
    "- Проведение анализа данных;\n",
    "- Выделение всех элементов фигурного катания, представленых в виде объединенной строки с набором элементов, например `2F!<<+2Lo<<CCoSp2V*`;\n",
    "  - Актуальный список элементов можно посмотреть [здесь](https://eislauf-union.de/files/users/997/Elemente-Liste2023_24.pdf) - категория `Single skating`, а также специальные отметки `Special codes` в конце документа;\n",
    "- Выделение элементов успешно выполненных и с погрешностями (имеют специальные пометки);\n",
    "- Агрегация датасета и подготовка обучающих признаков;\n",
    "- Создание модели для предсказания вероятности успешного выполнения элементов;\n",
    "- Улучшение решения: анализ признаков, выявление ошибок и слабых сторон модели;\n",
    "- Создание функции (класса) для применения в сервисе:\n",
    "  - возможность регулировки длины истории спортсмена для построения прогноза,\n",
    "  - добавление запланированной программы элементов в качестве признака;\n",
    "- Проведение тестирования решения;\n",
    "- Создание документации;\n",
    "- Заключение (отчёт по проделанной работе)."
   ]
  },
  {
   "cell_type": "markdown",
   "id": "e25c97d5-aff7-4266-b739-808ee0af12d6",
   "metadata": {},
   "source": [
    "## Setting up the work environment"
   ]
  },
  {
   "cell_type": "code",
   "execution_count": 30,
   "id": "5f8a74c7-6a8b-41ee-adf5-c2545f116bbb",
   "metadata": {},
   "outputs": [],
   "source": [
    "# !pip install pandas\n",
    "# !pip install python-dotenv\n",
    "# !pip install seaborn\n",
    "# !pip install psycopg2-binary\n",
    "\n",
    "!pip freeze > requirements.txt"
   ]
  },
  {
   "cell_type": "code",
   "execution_count": 36,
   "id": "85d5b69c-2947-41ad-a84c-c9f387fc18bb",
   "metadata": {},
   "outputs": [
    {
     "data": {
      "text/plain": [
       "'/home/denis/Documents/main_venv/goprotect/.gp_env'"
      ]
     },
     "execution_count": 36,
     "metadata": {},
     "output_type": "execute_result"
    }
   ],
   "source": [
    "import os\n",
    "import random\n",
    "import numpy as np\n",
    "import pandas as pd\n",
    "import seaborn as sns\n",
    "import matplotlib.pyplot as plt\n",
    "\n",
    "from dotenv import load_dotenv\n",
    "os.environ['VIRTUAL_ENV']"
   ]
  },
  {
   "cell_type": "markdown",
   "id": "9a5b5561-3818-46c1-a086-64e34dd110f9",
   "metadata": {},
   "source": [
    "Declaring Global Variables"
   ]
  },
  {
   "cell_type": "code",
   "execution_count": 37,
   "id": "910bf6cc-f208-4bd4-9811-b6a8396eb795",
   "metadata": {},
   "outputs": [],
   "source": [
    "UNITS_PATH = 'data/units.csv'\n",
    "SCORES_PATH = 'data/total_scores.csv'\n",
    "TOURNAMENTS_PATH = 'data/tournaments.csv'\n",
    "TOURNAMENT_SCORES_PATH = 'data/tournament_scores.csv'\n",
    "\n",
    "ASSETS_DIR = 'assets'\n",
    "RANDOM_STATE = 42\n",
    "\n",
    "random.seed(RANDOM_STATE)\n",
    "np.random.seed(RANDOM_STATE)\n",
    "TRACKING_SERVER_PORT = 5000\n",
    "TRACKING_SERVER_HOST = '127.0.0.1'\n",
    "EXPERIMENT_NAME = 'goprotect_athletes'\n",
    "\n",
    "load_dotenv()\n",
    "sns.set_style('white')\n",
    "sns.set_theme(style='whitegrid')\n",
    "pd.options.display.max_rows = 20\n",
    "pd.options.display.max_columns = 30\n",
    "\n",
    "connection = {'sslmode': 'require',\n",
    "              'target_session_attrs': 'read-write'}\n",
    "postgres_credentials = {'host': os.getenv('DB_HOST'),\n",
    "                        'port': os.getenv('DB_PORT'),\n",
    "                        'dbname': os.getenv('DB_NAME'),\n",
    "                        'user': os.getenv('DB_USERNAME'),\n",
    "                        'password': os.getenv('DB_PASSWORD')}"
   ]
  },
  {
   "cell_type": "markdown",
   "id": "0411c6d7-fe0e-4431-9a3f-c02a1cbcea07",
   "metadata": {},
   "source": [
    "Importing a Research Class"
   ]
  },
  {
   "cell_type": "code",
   "execution_count": 4,
   "id": "663b9013-dacc-4e1e-b7d1-28dfa4d320c3",
   "metadata": {},
   "outputs": [],
   "source": [
    "%load_ext autoreload\n",
    "%autoreload 2\n",
    "\n",
    "from research_class import DatasetExplorer"
   ]
  },
  {
   "cell_type": "markdown",
   "id": "1c599405-81f7-4bed-bf41-7d2367682b71",
   "metadata": {},
   "source": [
    "## EDA"
   ]
  },
  {
   "cell_type": "markdown",
   "id": "43b22395-5db7-4e07-9a0f-5177755704a4",
   "metadata": {},
   "source": [
    "### units"
   ]
  },
  {
   "cell_type": "code",
   "execution_count": 5,
   "id": "11894a1f-71c6-4e14-8ef7-4947336998be",
   "metadata": {},
   "outputs": [],
   "source": [
    "units_explorer = DatasetExplorer(UNITS_PATH)"
   ]
  },
  {
   "cell_type": "code",
   "execution_count": 13,
   "id": "bc283543-5254-4317-a171-645b913f22af",
   "metadata": {},
   "outputs": [
    {
     "name": "stdout",
     "output_type": "stream",
     "text": [
      "Общая информация по набору данных:\n",
      "<class 'pandas.core.frame.DataFrame'>\n",
      "RangeIndex: 4596 entries, 0 to 4595\n",
      "Data columns (total 3 columns):\n",
      " #   Column     Non-Null Count  Dtype  \n",
      "---  ------     --------------  -----  \n",
      " 0   id         4596 non-null   int64  \n",
      " 1   color      4595 non-null   object \n",
      " 2   school_id  4007 non-null   float64\n",
      "dtypes: float64(1), int64(1), object(1)\n",
      "memory usage: 107.8+ KB\n",
      "\n",
      "Первые пять строк набора данных:\n"
     ]
    },
    {
     "data": {
      "text/html": [
       "<div>\n",
       "<style scoped>\n",
       "    .dataframe tbody tr th:only-of-type {\n",
       "        vertical-align: middle;\n",
       "    }\n",
       "\n",
       "    .dataframe tbody tr th {\n",
       "        vertical-align: top;\n",
       "    }\n",
       "\n",
       "    .dataframe thead th {\n",
       "        text-align: right;\n",
       "    }\n",
       "</style>\n",
       "<table border=\"1\" class=\"dataframe\">\n",
       "  <thead>\n",
       "    <tr style=\"text-align: right;\">\n",
       "      <th></th>\n",
       "      <th>id</th>\n",
       "      <th>color</th>\n",
       "      <th>school_id</th>\n",
       "    </tr>\n",
       "  </thead>\n",
       "  <tbody>\n",
       "    <tr>\n",
       "      <th>0</th>\n",
       "      <td>9474</td>\n",
       "      <td>green</td>\n",
       "      <td>244.0</td>\n",
       "    </tr>\n",
       "    <tr>\n",
       "      <th>1</th>\n",
       "      <td>733</td>\n",
       "      <td>green</td>\n",
       "      <td>203.0</td>\n",
       "    </tr>\n",
       "    <tr>\n",
       "      <th>2</th>\n",
       "      <td>734</td>\n",
       "      <td>green</td>\n",
       "      <td>235.0</td>\n",
       "    </tr>\n",
       "    <tr>\n",
       "      <th>3</th>\n",
       "      <td>735</td>\n",
       "      <td>green</td>\n",
       "      <td>168.0</td>\n",
       "    </tr>\n",
       "    <tr>\n",
       "      <th>4</th>\n",
       "      <td>736</td>\n",
       "      <td>green</td>\n",
       "      <td>168.0</td>\n",
       "    </tr>\n",
       "  </tbody>\n",
       "</table>\n",
       "</div>"
      ],
      "text/plain": [
       "     id  color  school_id\n",
       "0  9474  green      244.0\n",
       "1   733  green      203.0\n",
       "2   734  green      235.0\n",
       "3   735  green      168.0\n",
       "4   736  green      168.0"
      ]
     },
     "metadata": {},
     "output_type": "display_data"
    },
    {
     "name": "stdout",
     "output_type": "stream",
     "text": [
      "\n",
      "Количество полных дубликатов строк:\n"
     ]
    },
    {
     "data": {
      "text/plain": [
       "0"
      ]
     },
     "metadata": {},
     "output_type": "display_data"
    },
    {
     "name": "stdout",
     "output_type": "stream",
     "text": [
      "\n",
      "Количество пропущенных значений:\n"
     ]
    },
    {
     "data": {
      "text/plain": [
       "id             0\n",
       "color          1\n",
       "school_id    589\n",
       "dtype: int64"
      ]
     },
     "metadata": {},
     "output_type": "display_data"
    },
    {
     "data": {
      "image/png": "[encoded data removed]",
      "text/plain": [
       "<Figure size 640x480 with 2 Axes>"
      ]
     },
     "metadata": {},
     "output_type": "display_data"
    },
    {
     "name": "stdout",
     "output_type": "stream",
     "text": [
      "\n",
      "Процент пропущенных значений в признаках:\n",
      "color: 0.02%\n",
      "school_id: 12.82%\n",
      "Количество уникальных значений в столбце 'id': 4596\n",
      "Соотношение уникальных значений и общего количества записей в столбце 'id': 1.0000\n",
      "Количество уникальных значений в столбце 'school_id': 239\n",
      "Соотношение уникальных значений и общего количества записей в столбце 'school_id': 0.0520\n"
     ]
    }
   ],
   "source": [
    "units = units_explorer.explore_dataset()"
   ]
  },
  {
   "cell_type": "markdown",
   "id": "f9e47a6b-605f-4b6e-8f29-95705a0f28fa",
   "metadata": {},
   "source": [
    "Выводы и наблюдения:\n",
    "- полных дубликатов строк в данных не обнаружено;\n",
    "- количество пропущенных идентификаторов школ примерно 13% от всех записей;\n",
    "- количество пропущенных категорий в общем числе записей - 1;\n",
    "- количество уникальных идентификаторов школ - 239"
   ]
  },
  {
   "cell_type": "markdown",
   "id": "946774df-05ae-460b-a460-47e3ab1a8637",
   "metadata": {},
   "source": [
    "### scores"
   ]
  },
  {
   "cell_type": "code",
   "execution_count": 7,
   "id": "d16292be-dfd6-466e-aa8e-60fea64d8289",
   "metadata": {},
   "outputs": [],
   "source": [
    "scores_explorer = DatasetExplorer(SCORES_PATH)"
   ]
  },
  {
   "cell_type": "code",
   "execution_count": 14,
   "id": "899e9f52-724e-4fd7-97d7-2245a422299b",
   "metadata": {},
   "outputs": [
    {
     "name": "stdout",
     "output_type": "stream",
     "text": [
      "Общая информация по набору данных:\n",
      "<class 'pandas.core.frame.DataFrame'>\n",
      "RangeIndex: 21301 entries, 0 to 21300\n",
      "Data columns (total 15 columns):\n",
      " #   Column               Non-Null Count  Dtype  \n",
      "---  ------               --------------  -----  \n",
      " 0   id                   21301 non-null  int64  \n",
      " 1   unit_id              21301 non-null  int64  \n",
      " 2   tournament_id        21301 non-null  int64  \n",
      " 3   base_score           21301 non-null  float64\n",
      " 4   components_score     21301 non-null  float64\n",
      " 5   total_score          21301 non-null  float64\n",
      " 6   elements_score       21301 non-null  float64\n",
      " 7   decreasings_score    21301 non-null  float64\n",
      " 8   starting_place       21301 non-null  int64  \n",
      " 9   place                21301 non-null  int64  \n",
      " 10  segment_name         21284 non-null  object \n",
      " 11  info                 20720 non-null  object \n",
      " 12  overall_place        21301 non-null  int64  \n",
      " 13  overall_total_score  21284 non-null  float64\n",
      " 14  overall_place_str    10814 non-null  object \n",
      "dtypes: float64(6), int64(6), object(3)\n",
      "memory usage: 2.4+ MB\n",
      "\n",
      "Первые пять строк набора данных:\n"
     ]
    },
    {
     "data": {
      "text/html": [
       "<div>\n",
       "<style scoped>\n",
       "    .dataframe tbody tr th:only-of-type {\n",
       "        vertical-align: middle;\n",
       "    }\n",
       "\n",
       "    .dataframe tbody tr th {\n",
       "        vertical-align: top;\n",
       "    }\n",
       "\n",
       "    .dataframe thead th {\n",
       "        text-align: right;\n",
       "    }\n",
       "</style>\n",
       "<table border=\"1\" class=\"dataframe\">\n",
       "  <thead>\n",
       "    <tr style=\"text-align: right;\">\n",
       "      <th></th>\n",
       "      <th>id</th>\n",
       "      <th>unit_id</th>\n",
       "      <th>tournament_id</th>\n",
       "      <th>base_score</th>\n",
       "      <th>components_score</th>\n",
       "      <th>total_score</th>\n",
       "      <th>elements_score</th>\n",
       "      <th>decreasings_score</th>\n",
       "      <th>starting_place</th>\n",
       "      <th>place</th>\n",
       "      <th>segment_name</th>\n",
       "      <th>info</th>\n",
       "      <th>overall_place</th>\n",
       "      <th>overall_total_score</th>\n",
       "      <th>overall_place_str</th>\n",
       "    </tr>\n",
       "  </thead>\n",
       "  <tbody>\n",
       "    <tr>\n",
       "      <th>0</th>\n",
       "      <td>442027</td>\n",
       "      <td>304</td>\n",
       "      <td>4785</td>\n",
       "      <td>47.2</td>\n",
       "      <td>43.47</td>\n",
       "      <td>102.70</td>\n",
       "      <td>59.23</td>\n",
       "      <td>0.0</td>\n",
       "      <td>17</td>\n",
       "      <td>1</td>\n",
       "      <td>Короткая программа</td>\n",
       "      <td>x Надбавка за прыжки во второй половине програ...</td>\n",
       "      <td>2</td>\n",
       "      <td>293.74</td>\n",
       "      <td>2</td>\n",
       "    </tr>\n",
       "    <tr>\n",
       "      <th>1</th>\n",
       "      <td>442028</td>\n",
       "      <td>604</td>\n",
       "      <td>4785</td>\n",
       "      <td>45.4</td>\n",
       "      <td>46.71</td>\n",
       "      <td>101.19</td>\n",
       "      <td>54.48</td>\n",
       "      <td>0.0</td>\n",
       "      <td>18</td>\n",
       "      <td>2</td>\n",
       "      <td>Короткая программа</td>\n",
       "      <td>q Прыжок приземлён в четверть x Надбавка за пр...</td>\n",
       "      <td>1</td>\n",
       "      <td>294.75</td>\n",
       "      <td>1</td>\n",
       "    </tr>\n",
       "    <tr>\n",
       "      <th>2</th>\n",
       "      <td>442029</td>\n",
       "      <td>409</td>\n",
       "      <td>4785</td>\n",
       "      <td>44.0</td>\n",
       "      <td>46.82</td>\n",
       "      <td>99.20</td>\n",
       "      <td>52.38</td>\n",
       "      <td>0.0</td>\n",
       "      <td>6</td>\n",
       "      <td>3</td>\n",
       "      <td>Короткая программа</td>\n",
       "      <td>q Прыжок приземлён в четверть x Надбавка за пр...</td>\n",
       "      <td>4</td>\n",
       "      <td>285.57</td>\n",
       "      <td>4</td>\n",
       "    </tr>\n",
       "    <tr>\n",
       "      <th>3</th>\n",
       "      <td>442030</td>\n",
       "      <td>524</td>\n",
       "      <td>4785</td>\n",
       "      <td>46.2</td>\n",
       "      <td>44.86</td>\n",
       "      <td>91.84</td>\n",
       "      <td>47.98</td>\n",
       "      <td>-1.0</td>\n",
       "      <td>3</td>\n",
       "      <td>4</td>\n",
       "      <td>Короткая программа</td>\n",
       "      <td>q Прыжок приземлён в четверть x Надбавка за пр...</td>\n",
       "      <td>3</td>\n",
       "      <td>292.42</td>\n",
       "      <td>3</td>\n",
       "    </tr>\n",
       "    <tr>\n",
       "      <th>4</th>\n",
       "      <td>442031</td>\n",
       "      <td>412</td>\n",
       "      <td>4785</td>\n",
       "      <td>44.2</td>\n",
       "      <td>42.59</td>\n",
       "      <td>89.73</td>\n",
       "      <td>48.14</td>\n",
       "      <td>-1.0</td>\n",
       "      <td>15</td>\n",
       "      <td>5</td>\n",
       "      <td>Короткая программа</td>\n",
       "      <td>q Прыжок приземлён в четверть x Надбавка за пр...</td>\n",
       "      <td>6</td>\n",
       "      <td>265.34</td>\n",
       "      <td>6</td>\n",
       "    </tr>\n",
       "  </tbody>\n",
       "</table>\n",
       "</div>"
      ],
      "text/plain": [
       "       id  unit_id  tournament_id  base_score  components_score  total_score  \\\n",
       "0  442027      304           4785        47.2             43.47       102.70   \n",
       "1  442028      604           4785        45.4             46.71       101.19   \n",
       "2  442029      409           4785        44.0             46.82        99.20   \n",
       "3  442030      524           4785        46.2             44.86        91.84   \n",
       "4  442031      412           4785        44.2             42.59        89.73   \n",
       "\n",
       "   elements_score  decreasings_score  starting_place  place  \\\n",
       "0           59.23                0.0              17      1   \n",
       "1           54.48                0.0              18      2   \n",
       "2           52.38                0.0               6      3   \n",
       "3           47.98               -1.0               3      4   \n",
       "4           48.14               -1.0              15      5   \n",
       "\n",
       "         segment_name                                               info  \\\n",
       "0  Короткая программа  x Надбавка за прыжки во второй половине програ...   \n",
       "1  Короткая программа  q Прыжок приземлён в четверть x Надбавка за пр...   \n",
       "2  Короткая программа  q Прыжок приземлён в четверть x Надбавка за пр...   \n",
       "3  Короткая программа  q Прыжок приземлён в четверть x Надбавка за пр...   \n",
       "4  Короткая программа  q Прыжок приземлён в четверть x Надбавка за пр...   \n",
       "\n",
       "   overall_place  overall_total_score overall_place_str  \n",
       "0              2               293.74                 2  \n",
       "1              1               294.75                 1  \n",
       "2              4               285.57                 4  \n",
       "3              3               292.42                 3  \n",
       "4              6               265.34                 6  "
      ]
     },
     "metadata": {},
     "output_type": "display_data"
    },
    {
     "name": "stdout",
     "output_type": "stream",
     "text": [
      "\n",
      "Количество полных дубликатов строк:\n"
     ]
    },
    {
     "data": {
      "text/plain": [
       "0"
      ]
     },
     "metadata": {},
     "output_type": "display_data"
    },
    {
     "name": "stdout",
     "output_type": "stream",
     "text": [
      "\n",
      "Количество пропущенных значений:\n"
     ]
    },
    {
     "data": {
      "text/plain": [
       "id                         0\n",
       "unit_id                    0\n",
       "tournament_id              0\n",
       "base_score                 0\n",
       "components_score           0\n",
       "total_score                0\n",
       "elements_score             0\n",
       "decreasings_score          0\n",
       "starting_place             0\n",
       "place                      0\n",
       "segment_name              17\n",
       "info                     581\n",
       "overall_place              0\n",
       "overall_total_score       17\n",
       "overall_place_str      10487\n",
       "dtype: int64"
      ]
     },
     "metadata": {},
     "output_type": "display_data"
    },
    {
     "data": {
      "image/png": "[encoded data removed]",
      "text/plain": [
       "<Figure size 640x480 with 2 Axes>"
      ]
     },
     "metadata": {},
     "output_type": "display_data"
    },
    {
     "name": "stdout",
     "output_type": "stream",
     "text": [
      "\n",
      "Процент пропущенных значений в признаках:\n",
      "segment_name: 0.08%\n",
      "info: 2.73%\n",
      "overall_total_score: 0.08%\n",
      "overall_place_str: 49.23%\n",
      "Количество уникальных значений в столбце 'id': 21301\n",
      "Соотношение уникальных значений и общего количества записей в столбце 'id': 1.0000\n",
      "Количество уникальных значений в столбце 'unit_id': 3393\n",
      "Соотношение уникальных значений и общего количества записей в столбце 'unit_id': 0.1593\n",
      "Количество уникальных значений в столбце 'tournament_id': 142\n",
      "Соотношение уникальных значений и общего количества записей в столбце 'tournament_id': 0.0067\n"
     ]
    }
   ],
   "source": [
    "scores = scores_explorer.explore_dataset()"
   ]
  },
  {
   "cell_type": "markdown",
   "id": "a0f859f6-3bc8-4437-8663-141d3a168b0c",
   "metadata": {},
   "source": [
    "Выводы и наблюденоия:\n",
    "- полных дубликатов строк в данных не обнаружено;\n",
    "- в нескольких признаках имеются пропущенные данные -\n",
    "  <br>больше всего пропусков в признаке с комментариями `overall_place_str` - 49.23%;\n",
    "- почти все признаки представлены числовыми значениями, один признак - категориальный,\n",
    "  <br>два признака текстовые - их нужно рассмотреть подробнее на предмет извлечения информации."
   ]
  },
  {
   "cell_type": "markdown",
   "id": "3451a5cf-9317-4054-bd2a-706547cfa053",
   "metadata": {},
   "source": [
    "### tournaments"
   ]
  },
  {
   "cell_type": "code",
   "execution_count": 9,
   "id": "f6d55151-c56a-4af4-ad7e-d9e237b9e969",
   "metadata": {},
   "outputs": [],
   "source": [
    "tournaments_explorer = DatasetExplorer(TOURNAMENTS_PATH)"
   ]
  },
  {
   "cell_type": "code",
   "execution_count": 15,
   "id": "d0c5e9d5-ee3f-49d1-90b6-f1616a8a342b",
   "metadata": {},
   "outputs": [
    {
     "name": "stdout",
     "output_type": "stream",
     "text": [
      "Общая информация по набору данных:\n",
      "<class 'pandas.core.frame.DataFrame'>\n",
      "RangeIndex: 142 entries, 0 to 141\n",
      "Data columns (total 4 columns):\n",
      " #   Column      Non-Null Count  Dtype  \n",
      "---  ------      --------------  -----  \n",
      " 0   id          142 non-null    int64  \n",
      " 1   date_start  142 non-null    object \n",
      " 2   date_end    142 non-null    object \n",
      " 3   origin_id   142 non-null    float64\n",
      "dtypes: float64(1), int64(1), object(2)\n",
      "memory usage: 4.6+ KB\n",
      "\n",
      "Первые пять строк набора данных:\n"
     ]
    },
    {
     "data": {
      "text/html": [
       "<div>\n",
       "<style scoped>\n",
       "    .dataframe tbody tr th:only-of-type {\n",
       "        vertical-align: middle;\n",
       "    }\n",
       "\n",
       "    .dataframe tbody tr th {\n",
       "        vertical-align: top;\n",
       "    }\n",
       "\n",
       "    .dataframe thead th {\n",
       "        text-align: right;\n",
       "    }\n",
       "</style>\n",
       "<table border=\"1\" class=\"dataframe\">\n",
       "  <thead>\n",
       "    <tr style=\"text-align: right;\">\n",
       "      <th></th>\n",
       "      <th>id</th>\n",
       "      <th>date_start</th>\n",
       "      <th>date_end</th>\n",
       "      <th>origin_id</th>\n",
       "    </tr>\n",
       "  </thead>\n",
       "  <tbody>\n",
       "    <tr>\n",
       "      <th>0</th>\n",
       "      <td>1</td>\n",
       "      <td>2090-11-29</td>\n",
       "      <td>2090-12-01</td>\n",
       "      <td>2.0</td>\n",
       "    </tr>\n",
       "    <tr>\n",
       "      <th>1</th>\n",
       "      <td>2</td>\n",
       "      <td>2091-03-06</td>\n",
       "      <td>2091-03-10</td>\n",
       "      <td>1.0</td>\n",
       "    </tr>\n",
       "    <tr>\n",
       "      <th>2</th>\n",
       "      <td>3</td>\n",
       "      <td>2090-10-05</td>\n",
       "      <td>2090-10-08</td>\n",
       "      <td>2.0</td>\n",
       "    </tr>\n",
       "    <tr>\n",
       "      <th>3</th>\n",
       "      <td>4</td>\n",
       "      <td>2090-10-18</td>\n",
       "      <td>2090-10-21</td>\n",
       "      <td>2.0</td>\n",
       "    </tr>\n",
       "    <tr>\n",
       "      <th>4</th>\n",
       "      <td>5</td>\n",
       "      <td>2090-10-21</td>\n",
       "      <td>2090-10-24</td>\n",
       "      <td>2.0</td>\n",
       "    </tr>\n",
       "  </tbody>\n",
       "</table>\n",
       "</div>"
      ],
      "text/plain": [
       "   id  date_start    date_end  origin_id\n",
       "0   1  2090-11-29  2090-12-01        2.0\n",
       "1   2  2091-03-06  2091-03-10        1.0\n",
       "2   3  2090-10-05  2090-10-08        2.0\n",
       "3   4  2090-10-18  2090-10-21        2.0\n",
       "4   5  2090-10-21  2090-10-24        2.0"
      ]
     },
     "metadata": {},
     "output_type": "display_data"
    },
    {
     "name": "stdout",
     "output_type": "stream",
     "text": [
      "\n",
      "Количество полных дубликатов строк:\n"
     ]
    },
    {
     "data": {
      "text/plain": [
       "0"
      ]
     },
     "metadata": {},
     "output_type": "display_data"
    },
    {
     "name": "stdout",
     "output_type": "stream",
     "text": [
      "\n",
      "Количество пропущенных значений:\n"
     ]
    },
    {
     "data": {
      "text/plain": [
       "id            0\n",
       "date_start    0\n",
       "date_end      0\n",
       "origin_id     0\n",
       "dtype: int64"
      ]
     },
     "metadata": {},
     "output_type": "display_data"
    },
    {
     "name": "stdout",
     "output_type": "stream",
     "text": [
      "\n",
      "Процент пропущенных значений в признаках:\n",
      "Количество уникальных значений в столбце 'id': 142\n",
      "Соотношение уникальных значений и общего количества записей в столбце 'id': 1.0000\n",
      "Количество уникальных значений в столбце 'origin_id': 3\n",
      "Соотношение уникальных значений и общего количества записей в столбце 'origin_id': 0.0211\n"
     ]
    }
   ],
   "source": [
    "tournaments = tournaments_explorer.explore_dataset()"
   ]
  },
  {
   "cell_type": "markdown",
   "id": "be6daa6c-bd2a-4a58-842f-b22abf5c7080",
   "metadata": {},
   "source": [
    "Выводы и наблюдения:\n",
    "- дубликатов строк в данных не обнаружено;\n",
    "- пропусков в данных не обнаружено;\n",
    "- количество уникальных мест проведения - 3;\n",
    "- со значениями дат имеются проблемы - необходим более детальный анализ."
   ]
  },
  {
   "cell_type": "markdown",
   "id": "c6f5d39d-b34c-4507-ae26-612e19225ff1",
   "metadata": {},
   "source": [
    "### tournament_scores"
   ]
  },
  {
   "cell_type": "code",
   "execution_count": 11,
   "id": "7c68aa12-e378-4432-814b-a6b2cd8d0bfa",
   "metadata": {},
   "outputs": [],
   "source": [
    "tournament_scores_explorer = DatasetExplorer(TOURNAMENT_SCORES_PATH)"
   ]
  },
  {
   "cell_type": "code",
   "execution_count": 16,
   "id": "c61c7589-241c-4806-b081-3ecf5909eae2",
   "metadata": {},
   "outputs": [
    {
     "name": "stdout",
     "output_type": "stream",
     "text": [
      "Общая информация по набору данных:\n",
      "<class 'pandas.core.frame.DataFrame'>\n",
      "RangeIndex: 172158 entries, 0 to 172157\n",
      "Data columns (total 7 columns):\n",
      " #   Column          Non-Null Count   Dtype  \n",
      "---  ------          --------------   -----  \n",
      " 0   id              172158 non-null  int64  \n",
      " 1   total_score_id  172158 non-null  int64  \n",
      " 2   title           172158 non-null  object \n",
      " 3   decrease        41185 non-null   object \n",
      " 4   base_score      172158 non-null  float64\n",
      " 5   goe             172158 non-null  float64\n",
      " 6   avg_score       172158 non-null  float64\n",
      "dtypes: float64(3), int64(2), object(2)\n",
      "memory usage: 9.2+ MB\n",
      "\n",
      "Первые пять строк набора данных:\n"
     ]
    },
    {
     "data": {
      "text/html": [
       "<div>\n",
       "<style scoped>\n",
       "    .dataframe tbody tr th:only-of-type {\n",
       "        vertical-align: middle;\n",
       "    }\n",
       "\n",
       "    .dataframe tbody tr th {\n",
       "        vertical-align: top;\n",
       "    }\n",
       "\n",
       "    .dataframe thead th {\n",
       "        text-align: right;\n",
       "    }\n",
       "</style>\n",
       "<table border=\"1\" class=\"dataframe\">\n",
       "  <thead>\n",
       "    <tr style=\"text-align: right;\">\n",
       "      <th></th>\n",
       "      <th>id</th>\n",
       "      <th>total_score_id</th>\n",
       "      <th>title</th>\n",
       "      <th>decrease</th>\n",
       "      <th>base_score</th>\n",
       "      <th>goe</th>\n",
       "      <th>avg_score</th>\n",
       "    </tr>\n",
       "  </thead>\n",
       "  <tbody>\n",
       "    <tr>\n",
       "      <th>0</th>\n",
       "      <td>1</td>\n",
       "      <td>1</td>\n",
       "      <td>2A</td>\n",
       "      <td>NaN</td>\n",
       "      <td>3.3</td>\n",
       "      <td>0.66</td>\n",
       "      <td>3.96</td>\n",
       "    </tr>\n",
       "    <tr>\n",
       "      <th>1</th>\n",
       "      <td>2</td>\n",
       "      <td>1</td>\n",
       "      <td>3F+3Lo</td>\n",
       "      <td>NaN</td>\n",
       "      <td>10.2</td>\n",
       "      <td>-0.11</td>\n",
       "      <td>10.09</td>\n",
       "    </tr>\n",
       "    <tr>\n",
       "      <th>2</th>\n",
       "      <td>3</td>\n",
       "      <td>1</td>\n",
       "      <td>3Lz</td>\n",
       "      <td>NaN</td>\n",
       "      <td>0.0</td>\n",
       "      <td>-1.30</td>\n",
       "      <td>5.19</td>\n",
       "    </tr>\n",
       "    <tr>\n",
       "      <th>3</th>\n",
       "      <td>4</td>\n",
       "      <td>1</td>\n",
       "      <td>CCoSp4</td>\n",
       "      <td>NaN</td>\n",
       "      <td>3.5</td>\n",
       "      <td>0.56</td>\n",
       "      <td>4.06</td>\n",
       "    </tr>\n",
       "    <tr>\n",
       "      <th>4</th>\n",
       "      <td>5</td>\n",
       "      <td>1</td>\n",
       "      <td>FCSp4</td>\n",
       "      <td>NaN</td>\n",
       "      <td>3.2</td>\n",
       "      <td>0.64</td>\n",
       "      <td>3.84</td>\n",
       "    </tr>\n",
       "  </tbody>\n",
       "</table>\n",
       "</div>"
      ],
      "text/plain": [
       "   id  total_score_id   title decrease  base_score   goe  avg_score\n",
       "0   1               1      2A      NaN         3.3  0.66       3.96\n",
       "1   2               1  3F+3Lo      NaN        10.2 -0.11      10.09\n",
       "2   3               1     3Lz      NaN         0.0 -1.30       5.19\n",
       "3   4               1  CCoSp4      NaN         3.5  0.56       4.06\n",
       "4   5               1   FCSp4      NaN         3.2  0.64       3.84"
      ]
     },
     "metadata": {},
     "output_type": "display_data"
    },
    {
     "name": "stdout",
     "output_type": "stream",
     "text": [
      "\n",
      "Количество полных дубликатов строк:\n"
     ]
    },
    {
     "data": {
      "text/plain": [
       "0"
      ]
     },
     "metadata": {},
     "output_type": "display_data"
    },
    {
     "name": "stdout",
     "output_type": "stream",
     "text": [
      "\n",
      "Количество пропущенных значений:\n"
     ]
    },
    {
     "data": {
      "text/plain": [
       "id                     0\n",
       "total_score_id         0\n",
       "title                  0\n",
       "decrease          130973\n",
       "base_score             0\n",
       "goe                    0\n",
       "avg_score              0\n",
       "dtype: int64"
      ]
     },
     "metadata": {},
     "output_type": "display_data"
    },
    {
     "data": {
      "image/png": "[encoded data removed]",
      "text/plain": [
       "<Figure size 640x480 with 2 Axes>"
      ]
     },
     "metadata": {},
     "output_type": "display_data"
    },
    {
     "name": "stdout",
     "output_type": "stream",
     "text": [
      "\n",
      "Процент пропущенных значений в признаках:\n",
      "decrease: 76.08%\n",
      "Количество уникальных значений в столбце 'id': 172158\n",
      "Соотношение уникальных значений и общего количества записей в столбце 'id': 1.0000\n",
      "Количество уникальных значений в столбце 'total_score_id': 21301\n",
      "Соотношение уникальных значений и общего количества записей в столбце 'total_score_id': 0.1237\n"
     ]
    }
   ],
   "source": [
    "tournament_scores = tournament_scores_explorer.explore_dataset()"
   ]
  },
  {
   "cell_type": "markdown",
   "id": "d9c34fe5-bb0c-4491-b013-1291e6507e6c",
   "metadata": {},
   "source": [
    "Выводы и наблюдения:\n",
    "- дубликатов строк в данных не обнаружено;\n",
    "- в признаке `decrease` пропущено более трёх четвертей значений,\n",
    "  <br>возможно, он в последствии буде исключён;\n",
    "- большинство признаков представлено числовыми значениями."
   ]
  },
  {
   "cell_type": "markdown",
   "id": "70f9eaf5-813d-4ea9-89c8-bb9369c3222e",
   "metadata": {},
   "source": [
    "### merge_data"
   ]
  },
  {
   "cell_type": "code",
   "execution_count": 32,
   "id": "29d6cc6b-f13c-481c-9562-fc3d44f6e380",
   "metadata": {},
   "outputs": [],
   "source": [
    "main_df = (\n",
    "    tournament_scores\n",
    "    .merge(scores, how='left', left_on='total_score_id', right_on='id', suffixes=('_ts', '_scores'))\n",
    "    .merge(units, how='left', left_on='unit_id', right_on='id', suffixes=('_tss', '_units'))\n",
    "    .merge(tournaments, how='left', left_on='tournament_id', right_on='id', suffixes=('_tssu', '_tournaments'))\n",
    ")"
   ]
  },
  {
   "cell_type": "markdown",
   "id": "d260d075-221a-4505-a2ef-e81eacaa1dee",
   "metadata": {},
   "source": [
    "## checkpoint_1"
   ]
  },
  {
   "cell_type": "code",
   "execution_count": 33,
   "id": "56154f11-abea-481b-a802-fb14e5b023c1",
   "metadata": {},
   "outputs": [],
   "source": [
    "# merge_df.to_csv('data/merge_df.csv', index=False)\n",
    "main_df = pd.read_csv('data/merge_df.csv', low_memory=False)"
   ]
  },
  {
   "cell_type": "code",
   "execution_count": 34,
   "id": "c43b0d67-aaf6-4d51-b843-22110cd9663e",
   "metadata": {},
   "outputs": [],
   "source": [
    "all_data_explorer = DatasetExplorer(data_path=None, data=main_df)"
   ]
  },
  {
   "cell_type": "code",
   "execution_count": 35,
   "id": "3927bab8-175e-4eac-a8da-04784d58c7f5",
   "metadata": {},
   "outputs": [
    {
     "name": "stdout",
     "output_type": "stream",
     "text": [
      "Общая информация по набору данных:\n",
      "<class 'pandas.core.frame.DataFrame'>\n",
      "RangeIndex: 172158 entries, 0 to 172157\n",
      "Data columns (total 29 columns):\n",
      " #   Column               Non-Null Count   Dtype  \n",
      "---  ------               --------------   -----  \n",
      " 0   id_ts                172158 non-null  int64  \n",
      " 1   total_score_id       172158 non-null  int64  \n",
      " 2   title                172158 non-null  object \n",
      " 3   decrease             41185 non-null   object \n",
      " 4   base_score_ts        172158 non-null  float64\n",
      " 5   goe                  172158 non-null  float64\n",
      " 6   avg_score            172158 non-null  float64\n",
      " 7   id_scores            172158 non-null  int64  \n",
      " 8   unit_id              172158 non-null  int64  \n",
      " 9   tournament_id        172158 non-null  int64  \n",
      " 10  base_score_scores    172158 non-null  float64\n",
      " 11  components_score     172158 non-null  float64\n",
      " 12  total_score          172158 non-null  float64\n",
      " 13  elements_score       172158 non-null  float64\n",
      " 14  decreasings_score    172158 non-null  float64\n",
      " 15  starting_place       172158 non-null  int64  \n",
      " 16  place                172158 non-null  int64  \n",
      " 17  segment_name         172115 non-null  object \n",
      " 18  info                 168356 non-null  object \n",
      " 19  overall_place        172158 non-null  int64  \n",
      " 20  overall_total_score  172115 non-null  float64\n",
      " 21  overall_place_str    85946 non-null   object \n",
      " 22  id_tssu              172158 non-null  int64  \n",
      " 23  color                172158 non-null  object \n",
      " 24  school_id            164913 non-null  float64\n",
      " 25  id_tournaments       172158 non-null  int64  \n",
      " 26  date_start           172158 non-null  object \n",
      " 27  date_end             172158 non-null  object \n",
      " 28  origin_id            172158 non-null  float64\n",
      "dtypes: float64(11), int64(10), object(8)\n",
      "memory usage: 38.1+ MB\n",
      "\n",
      "Первые пять строк набора данных:\n"
     ]
    },
    {
     "data": {
      "text/html": [
       "<div>\n",
       "<style scoped>\n",
       "    .dataframe tbody tr th:only-of-type {\n",
       "        vertical-align: middle;\n",
       "    }\n",
       "\n",
       "    .dataframe tbody tr th {\n",
       "        vertical-align: top;\n",
       "    }\n",
       "\n",
       "    .dataframe thead th {\n",
       "        text-align: right;\n",
       "    }\n",
       "</style>\n",
       "<table border=\"1\" class=\"dataframe\">\n",
       "  <thead>\n",
       "    <tr style=\"text-align: right;\">\n",
       "      <th></th>\n",
       "      <th>id_ts</th>\n",
       "      <th>total_score_id</th>\n",
       "      <th>title</th>\n",
       "      <th>decrease</th>\n",
       "      <th>base_score_ts</th>\n",
       "      <th>goe</th>\n",
       "      <th>avg_score</th>\n",
       "      <th>id_scores</th>\n",
       "      <th>unit_id</th>\n",
       "      <th>tournament_id</th>\n",
       "      <th>base_score_scores</th>\n",
       "      <th>components_score</th>\n",
       "      <th>total_score</th>\n",
       "      <th>elements_score</th>\n",
       "      <th>decreasings_score</th>\n",
       "      <th>starting_place</th>\n",
       "      <th>place</th>\n",
       "      <th>segment_name</th>\n",
       "      <th>info</th>\n",
       "      <th>overall_place</th>\n",
       "      <th>overall_total_score</th>\n",
       "      <th>overall_place_str</th>\n",
       "      <th>id_tssu</th>\n",
       "      <th>color</th>\n",
       "      <th>school_id</th>\n",
       "      <th>id_tournaments</th>\n",
       "      <th>date_start</th>\n",
       "      <th>date_end</th>\n",
       "      <th>origin_id</th>\n",
       "    </tr>\n",
       "  </thead>\n",
       "  <tbody>\n",
       "    <tr>\n",
       "      <th>0</th>\n",
       "      <td>1</td>\n",
       "      <td>1</td>\n",
       "      <td>2A</td>\n",
       "      <td>NaN</td>\n",
       "      <td>3.3</td>\n",
       "      <td>0.66</td>\n",
       "      <td>3.96</td>\n",
       "      <td>1</td>\n",
       "      <td>1</td>\n",
       "      <td>1</td>\n",
       "      <td>31.99</td>\n",
       "      <td>24.67</td>\n",
       "      <td>56.86</td>\n",
       "      <td>33.19</td>\n",
       "      <td>0.0</td>\n",
       "      <td>2</td>\n",
       "      <td>5</td>\n",
       "      <td>Короткая программа</td>\n",
       "      <td>x Надбавка за прыжки во второй половине програ...</td>\n",
       "      <td>4</td>\n",
       "      <td>164.44</td>\n",
       "      <td>NaN</td>\n",
       "      <td>1</td>\n",
       "      <td>green</td>\n",
       "      <td>198.0</td>\n",
       "      <td>1</td>\n",
       "      <td>2090-11-29</td>\n",
       "      <td>2090-12-01</td>\n",
       "      <td>2.0</td>\n",
       "    </tr>\n",
       "    <tr>\n",
       "      <th>1</th>\n",
       "      <td>2</td>\n",
       "      <td>1</td>\n",
       "      <td>3F+3Lo</td>\n",
       "      <td>NaN</td>\n",
       "      <td>10.2</td>\n",
       "      <td>-0.11</td>\n",
       "      <td>10.09</td>\n",
       "      <td>1</td>\n",
       "      <td>1</td>\n",
       "      <td>1</td>\n",
       "      <td>31.99</td>\n",
       "      <td>24.67</td>\n",
       "      <td>56.86</td>\n",
       "      <td>33.19</td>\n",
       "      <td>0.0</td>\n",
       "      <td>2</td>\n",
       "      <td>5</td>\n",
       "      <td>Короткая программа</td>\n",
       "      <td>x Надбавка за прыжки во второй половине програ...</td>\n",
       "      <td>4</td>\n",
       "      <td>164.44</td>\n",
       "      <td>NaN</td>\n",
       "      <td>1</td>\n",
       "      <td>green</td>\n",
       "      <td>198.0</td>\n",
       "      <td>1</td>\n",
       "      <td>2090-11-29</td>\n",
       "      <td>2090-12-01</td>\n",
       "      <td>2.0</td>\n",
       "    </tr>\n",
       "    <tr>\n",
       "      <th>2</th>\n",
       "      <td>3</td>\n",
       "      <td>1</td>\n",
       "      <td>3Lz</td>\n",
       "      <td>NaN</td>\n",
       "      <td>0.0</td>\n",
       "      <td>-1.30</td>\n",
       "      <td>5.19</td>\n",
       "      <td>1</td>\n",
       "      <td>1</td>\n",
       "      <td>1</td>\n",
       "      <td>31.99</td>\n",
       "      <td>24.67</td>\n",
       "      <td>56.86</td>\n",
       "      <td>33.19</td>\n",
       "      <td>0.0</td>\n",
       "      <td>2</td>\n",
       "      <td>5</td>\n",
       "      <td>Короткая программа</td>\n",
       "      <td>x Надбавка за прыжки во второй половине програ...</td>\n",
       "      <td>4</td>\n",
       "      <td>164.44</td>\n",
       "      <td>NaN</td>\n",
       "      <td>1</td>\n",
       "      <td>green</td>\n",
       "      <td>198.0</td>\n",
       "      <td>1</td>\n",
       "      <td>2090-11-29</td>\n",
       "      <td>2090-12-01</td>\n",
       "      <td>2.0</td>\n",
       "    </tr>\n",
       "    <tr>\n",
       "      <th>3</th>\n",
       "      <td>4</td>\n",
       "      <td>1</td>\n",
       "      <td>CCoSp4</td>\n",
       "      <td>NaN</td>\n",
       "      <td>3.5</td>\n",
       "      <td>0.56</td>\n",
       "      <td>4.06</td>\n",
       "      <td>1</td>\n",
       "      <td>1</td>\n",
       "      <td>1</td>\n",
       "      <td>31.99</td>\n",
       "      <td>24.67</td>\n",
       "      <td>56.86</td>\n",
       "      <td>33.19</td>\n",
       "      <td>0.0</td>\n",
       "      <td>2</td>\n",
       "      <td>5</td>\n",
       "      <td>Короткая программа</td>\n",
       "      <td>x Надбавка за прыжки во второй половине програ...</td>\n",
       "      <td>4</td>\n",
       "      <td>164.44</td>\n",
       "      <td>NaN</td>\n",
       "      <td>1</td>\n",
       "      <td>green</td>\n",
       "      <td>198.0</td>\n",
       "      <td>1</td>\n",
       "      <td>2090-11-29</td>\n",
       "      <td>2090-12-01</td>\n",
       "      <td>2.0</td>\n",
       "    </tr>\n",
       "    <tr>\n",
       "      <th>4</th>\n",
       "      <td>5</td>\n",
       "      <td>1</td>\n",
       "      <td>FCSp4</td>\n",
       "      <td>NaN</td>\n",
       "      <td>3.2</td>\n",
       "      <td>0.64</td>\n",
       "      <td>3.84</td>\n",
       "      <td>1</td>\n",
       "      <td>1</td>\n",
       "      <td>1</td>\n",
       "      <td>31.99</td>\n",
       "      <td>24.67</td>\n",
       "      <td>56.86</td>\n",
       "      <td>33.19</td>\n",
       "      <td>0.0</td>\n",
       "      <td>2</td>\n",
       "      <td>5</td>\n",
       "      <td>Короткая программа</td>\n",
       "      <td>x Надбавка за прыжки во второй половине програ...</td>\n",
       "      <td>4</td>\n",
       "      <td>164.44</td>\n",
       "      <td>NaN</td>\n",
       "      <td>1</td>\n",
       "      <td>green</td>\n",
       "      <td>198.0</td>\n",
       "      <td>1</td>\n",
       "      <td>2090-11-29</td>\n",
       "      <td>2090-12-01</td>\n",
       "      <td>2.0</td>\n",
       "    </tr>\n",
       "  </tbody>\n",
       "</table>\n",
       "</div>"
      ],
      "text/plain": [
       "   id_ts  total_score_id   title decrease  base_score_ts   goe  avg_score  \\\n",
       "0      1               1      2A      NaN            3.3  0.66       3.96   \n",
       "1      2               1  3F+3Lo      NaN           10.2 -0.11      10.09   \n",
       "2      3               1     3Lz      NaN            0.0 -1.30       5.19   \n",
       "3      4               1  CCoSp4      NaN            3.5  0.56       4.06   \n",
       "4      5               1   FCSp4      NaN            3.2  0.64       3.84   \n",
       "\n",
       "   id_scores  unit_id  tournament_id  base_score_scores  components_score  \\\n",
       "0          1        1              1              31.99             24.67   \n",
       "1          1        1              1              31.99             24.67   \n",
       "2          1        1              1              31.99             24.67   \n",
       "3          1        1              1              31.99             24.67   \n",
       "4          1        1              1              31.99             24.67   \n",
       "\n",
       "   total_score  elements_score  decreasings_score  starting_place  place  \\\n",
       "0        56.86           33.19                0.0               2      5   \n",
       "1        56.86           33.19                0.0               2      5   \n",
       "2        56.86           33.19                0.0               2      5   \n",
       "3        56.86           33.19                0.0               2      5   \n",
       "4        56.86           33.19                0.0               2      5   \n",
       "\n",
       "         segment_name                                               info  \\\n",
       "0  Короткая программа  x Надбавка за прыжки во второй половине програ...   \n",
       "1  Короткая программа  x Надбавка за прыжки во второй половине програ...   \n",
       "2  Короткая программа  x Надбавка за прыжки во второй половине програ...   \n",
       "3  Короткая программа  x Надбавка за прыжки во второй половине програ...   \n",
       "4  Короткая программа  x Надбавка за прыжки во второй половине програ...   \n",
       "\n",
       "   overall_place  overall_total_score overall_place_str  id_tssu  color  \\\n",
       "0              4               164.44               NaN        1  green   \n",
       "1              4               164.44               NaN        1  green   \n",
       "2              4               164.44               NaN        1  green   \n",
       "3              4               164.44               NaN        1  green   \n",
       "4              4               164.44               NaN        1  green   \n",
       "\n",
       "   school_id  id_tournaments  date_start    date_end  origin_id  \n",
       "0      198.0               1  2090-11-29  2090-12-01        2.0  \n",
       "1      198.0               1  2090-11-29  2090-12-01        2.0  \n",
       "2      198.0               1  2090-11-29  2090-12-01        2.0  \n",
       "3      198.0               1  2090-11-29  2090-12-01        2.0  \n",
       "4      198.0               1  2090-11-29  2090-12-01        2.0  "
      ]
     },
     "metadata": {},
     "output_type": "display_data"
    },
    {
     "name": "stdout",
     "output_type": "stream",
     "text": [
      "\n",
      "Количество полных дубликатов строк:\n"
     ]
    },
    {
     "data": {
      "text/plain": [
       "0"
      ]
     },
     "metadata": {},
     "output_type": "display_data"
    },
    {
     "name": "stdout",
     "output_type": "stream",
     "text": [
      "\n",
      "Количество пропущенных значений:\n"
     ]
    },
    {
     "data": {
      "text/plain": [
       "id_ts                  0\n",
       "total_score_id         0\n",
       "title                  0\n",
       "decrease          130973\n",
       "base_score_ts          0\n",
       "                   ...  \n",
       "school_id           7245\n",
       "id_tournaments         0\n",
       "date_start             0\n",
       "date_end               0\n",
       "origin_id              0\n",
       "Length: 29, dtype: int64"
      ]
     },
     "metadata": {},
     "output_type": "display_data"
    },
    {
     "data": {
      "image/png": "[encoded data removed]",
      "text/plain": [
       "<Figure size 640x480 with 2 Axes>"
      ]
     },
     "metadata": {},
     "output_type": "display_data"
    },
    {
     "name": "stdout",
     "output_type": "stream",
     "text": [
      "\n",
      "Процент пропущенных значений в признаках:\n",
      "decrease: 76.08%\n",
      "segment_name: 0.02%\n",
      "info: 2.21%\n",
      "overall_total_score: 0.02%\n",
      "overall_place_str: 50.08%\n",
      "school_id: 4.21%\n",
      "Количество уникальных значений в столбце 'id_ts': 172158\n",
      "Соотношение уникальных значений и общего количества записей в столбце 'id_ts': 1.0000\n",
      "Количество уникальных значений в столбце 'total_score_id': 21301\n",
      "Соотношение уникальных значений и общего количества записей в столбце 'total_score_id': 0.1237\n",
      "Количество уникальных значений в столбце 'id_scores': 21301\n",
      "Соотношение уникальных значений и общего количества записей в столбце 'id_scores': 0.1237\n",
      "Количество уникальных значений в столбце 'unit_id': 3393\n",
      "Соотношение уникальных значений и общего количества записей в столбце 'unit_id': 0.0197\n",
      "Количество уникальных значений в столбце 'tournament_id': 142\n",
      "Соотношение уникальных значений и общего количества записей в столбце 'tournament_id': 0.0008\n",
      "Количество уникальных значений в столбце 'id_tssu': 3393\n",
      "Соотношение уникальных значений и общего количества записей в столбце 'id_tssu': 0.0197\n",
      "Количество уникальных значений в столбце 'school_id': 239\n",
      "Соотношение уникальных значений и общего количества записей в столбце 'school_id': 0.0014\n",
      "Количество уникальных значений в столбце 'id_tournaments': 142\n",
      "Соотношение уникальных значений и общего количества записей в столбце 'id_tournaments': 0.0008\n",
      "Количество уникальных значений в столбце 'origin_id': 3\n",
      "Соотношение уникальных значений и общего количества записей в столбце 'origin_id': 0.0000\n"
     ]
    }
   ],
   "source": [
    "main_df = all_data_explorer.explore_dataset(target=None, assets_dir=None)"
   ]
  },
  {
   "cell_type": "code",
   "execution_count": null,
   "id": "d1883325-0ada-465d-8046-ac670a797918",
   "metadata": {},
   "outputs": [],
   "source": [
    "features_for_analysis = ['base_score_ts',\n",
    "                         'goe','avg_score',\n",
    "                         'base_score_scores',\n",
    "                         'components_score',\n",
    "                         'total_score',\n",
    "                         'elements_score',\n",
    "                         'decreasing_score',\n",
    "                         'starting_place',\n",
    "                         'place',\n",
    "                         'overall_place',\n",
    "                         'overall_total_score',\n",
    "                         'color',\n",
    "                         'origin_id']\n",
    "\n",
    "fig, axs = plt.subplots(7, 2)\n",
    "fig.tight_layout(pad=1.0)\n",
    "fig.set_size_inches(14, 20, forward=True)\n",
    "\n",
    "for i, col in enumerate(features_for_analysis):\n",
    "    agg_df = main_df.groupby(col).agg({'pr_sales_in_units': 'sum'}).reset_index()\n",
    "    agg_df = agg_df.sort_values(by=col)\n",
    "    # agg_df[col] = agg_df[col].astype(str)\n",
    "    sns.barplot(x=col,\n",
    "                y='pr_sales_in_units',\n",
    "                data=agg_df,\n",
    "                ax=axs[i // 2, i % 2],\n",
    "                hue=col,\n",
    "                palette=sns.color_palette(\"husl\", len(agg_df)),\n",
    "                legend=False)\n",
    "    axs[i // 2, i % 2].set_title(f'Sum sales_in_units by {col} in data')\n",
    "    axs[i // 2, i % 2].set_xticks(range(len(agg_df)))\n",
    "    axs[i // 2, i % 2].set_xticklabels(agg_df[col], rotation=45, ha='right')\n",
    "    axs[i // 2, i % 2].set_ylabel('sales_in_units')\n",
    "fig.suptitle('Sum of sales_in_units by category')\n",
    "# plt.savefig(os.path.join(ASSETS_DIR, 'Sum of sales_in_units by category.png'))\n",
    "plt.show()"
   ]
  },
  {
   "cell_type": "code",
   "execution_count": 45,
   "id": "0f5e523c-784d-4a7e-9f93-4cee6d3a1244",
   "metadata": {},
   "outputs": [
    {
     "data": {
      "text/html": [
       "<div>\n",
       "<style scoped>\n",
       "    .dataframe tbody tr th:only-of-type {\n",
       "        vertical-align: middle;\n",
       "    }\n",
       "\n",
       "    .dataframe tbody tr th {\n",
       "        vertical-align: top;\n",
       "    }\n",
       "\n",
       "    .dataframe thead th {\n",
       "        text-align: right;\n",
       "    }\n",
       "</style>\n",
       "<table border=\"1\" class=\"dataframe\">\n",
       "  <thead>\n",
       "    <tr style=\"text-align: right;\">\n",
       "      <th></th>\n",
       "      <th>id_ts</th>\n",
       "      <th>total_score_id</th>\n",
       "      <th>title</th>\n",
       "      <th>decrease</th>\n",
       "      <th>base_score_ts</th>\n",
       "      <th>goe</th>\n",
       "      <th>avg_score</th>\n",
       "      <th>id_scores</th>\n",
       "      <th>unit_id</th>\n",
       "      <th>tournament_id</th>\n",
       "      <th>base_score_scores</th>\n",
       "      <th>components_score</th>\n",
       "      <th>total_score</th>\n",
       "      <th>elements_score</th>\n",
       "      <th>decreasings_score</th>\n",
       "      <th>starting_place</th>\n",
       "      <th>place</th>\n",
       "      <th>segment_name</th>\n",
       "      <th>info</th>\n",
       "      <th>overall_place</th>\n",
       "      <th>overall_total_score</th>\n",
       "      <th>overall_place_str</th>\n",
       "      <th>id_tssu</th>\n",
       "      <th>color</th>\n",
       "      <th>school_id</th>\n",
       "      <th>id_tournaments</th>\n",
       "      <th>date_start</th>\n",
       "      <th>date_end</th>\n",
       "      <th>origin_id</th>\n",
       "    </tr>\n",
       "  </thead>\n",
       "  <tbody>\n",
       "    <tr>\n",
       "      <th>0</th>\n",
       "      <td>1</td>\n",
       "      <td>1</td>\n",
       "      <td>2A</td>\n",
       "      <td>NaN</td>\n",
       "      <td>3.3</td>\n",
       "      <td>0.66</td>\n",
       "      <td>3.96</td>\n",
       "      <td>1</td>\n",
       "      <td>1</td>\n",
       "      <td>1</td>\n",
       "      <td>31.99</td>\n",
       "      <td>24.67</td>\n",
       "      <td>56.86</td>\n",
       "      <td>33.19</td>\n",
       "      <td>0.0</td>\n",
       "      <td>2</td>\n",
       "      <td>5</td>\n",
       "      <td>Короткая программа</td>\n",
       "      <td>x Надбавка за прыжки во второй половине програ...</td>\n",
       "      <td>4</td>\n",
       "      <td>164.44</td>\n",
       "      <td>NaN</td>\n",
       "      <td>1</td>\n",
       "      <td>green</td>\n",
       "      <td>198.0</td>\n",
       "      <td>1</td>\n",
       "      <td>2090-11-29</td>\n",
       "      <td>2090-12-01</td>\n",
       "      <td>2.0</td>\n",
       "    </tr>\n",
       "    <tr>\n",
       "      <th>1</th>\n",
       "      <td>2</td>\n",
       "      <td>1</td>\n",
       "      <td>3F+3Lo</td>\n",
       "      <td>NaN</td>\n",
       "      <td>10.2</td>\n",
       "      <td>-0.11</td>\n",
       "      <td>10.09</td>\n",
       "      <td>1</td>\n",
       "      <td>1</td>\n",
       "      <td>1</td>\n",
       "      <td>31.99</td>\n",
       "      <td>24.67</td>\n",
       "      <td>56.86</td>\n",
       "      <td>33.19</td>\n",
       "      <td>0.0</td>\n",
       "      <td>2</td>\n",
       "      <td>5</td>\n",
       "      <td>Короткая программа</td>\n",
       "      <td>x Надбавка за прыжки во второй половине програ...</td>\n",
       "      <td>4</td>\n",
       "      <td>164.44</td>\n",
       "      <td>NaN</td>\n",
       "      <td>1</td>\n",
       "      <td>green</td>\n",
       "      <td>198.0</td>\n",
       "      <td>1</td>\n",
       "      <td>2090-11-29</td>\n",
       "      <td>2090-12-01</td>\n",
       "      <td>2.0</td>\n",
       "    </tr>\n",
       "    <tr>\n",
       "      <th>2</th>\n",
       "      <td>3</td>\n",
       "      <td>1</td>\n",
       "      <td>3Lz</td>\n",
       "      <td>NaN</td>\n",
       "      <td>0.0</td>\n",
       "      <td>-1.30</td>\n",
       "      <td>5.19</td>\n",
       "      <td>1</td>\n",
       "      <td>1</td>\n",
       "      <td>1</td>\n",
       "      <td>31.99</td>\n",
       "      <td>24.67</td>\n",
       "      <td>56.86</td>\n",
       "      <td>33.19</td>\n",
       "      <td>0.0</td>\n",
       "      <td>2</td>\n",
       "      <td>5</td>\n",
       "      <td>Короткая программа</td>\n",
       "      <td>x Надбавка за прыжки во второй половине програ...</td>\n",
       "      <td>4</td>\n",
       "      <td>164.44</td>\n",
       "      <td>NaN</td>\n",
       "      <td>1</td>\n",
       "      <td>green</td>\n",
       "      <td>198.0</td>\n",
       "      <td>1</td>\n",
       "      <td>2090-11-29</td>\n",
       "      <td>2090-12-01</td>\n",
       "      <td>2.0</td>\n",
       "    </tr>\n",
       "    <tr>\n",
       "      <th>3</th>\n",
       "      <td>4</td>\n",
       "      <td>1</td>\n",
       "      <td>CCoSp4</td>\n",
       "      <td>NaN</td>\n",
       "      <td>3.5</td>\n",
       "      <td>0.56</td>\n",
       "      <td>4.06</td>\n",
       "      <td>1</td>\n",
       "      <td>1</td>\n",
       "      <td>1</td>\n",
       "      <td>31.99</td>\n",
       "      <td>24.67</td>\n",
       "      <td>56.86</td>\n",
       "      <td>33.19</td>\n",
       "      <td>0.0</td>\n",
       "      <td>2</td>\n",
       "      <td>5</td>\n",
       "      <td>Короткая программа</td>\n",
       "      <td>x Надбавка за прыжки во второй половине програ...</td>\n",
       "      <td>4</td>\n",
       "      <td>164.44</td>\n",
       "      <td>NaN</td>\n",
       "      <td>1</td>\n",
       "      <td>green</td>\n",
       "      <td>198.0</td>\n",
       "      <td>1</td>\n",
       "      <td>2090-11-29</td>\n",
       "      <td>2090-12-01</td>\n",
       "      <td>2.0</td>\n",
       "    </tr>\n",
       "    <tr>\n",
       "      <th>4</th>\n",
       "      <td>5</td>\n",
       "      <td>1</td>\n",
       "      <td>FCSp4</td>\n",
       "      <td>NaN</td>\n",
       "      <td>3.2</td>\n",
       "      <td>0.64</td>\n",
       "      <td>3.84</td>\n",
       "      <td>1</td>\n",
       "      <td>1</td>\n",
       "      <td>1</td>\n",
       "      <td>31.99</td>\n",
       "      <td>24.67</td>\n",
       "      <td>56.86</td>\n",
       "      <td>33.19</td>\n",
       "      <td>0.0</td>\n",
       "      <td>2</td>\n",
       "      <td>5</td>\n",
       "      <td>Короткая программа</td>\n",
       "      <td>x Надбавка за прыжки во второй половине програ...</td>\n",
       "      <td>4</td>\n",
       "      <td>164.44</td>\n",
       "      <td>NaN</td>\n",
       "      <td>1</td>\n",
       "      <td>green</td>\n",
       "      <td>198.0</td>\n",
       "      <td>1</td>\n",
       "      <td>2090-11-29</td>\n",
       "      <td>2090-12-01</td>\n",
       "      <td>2.0</td>\n",
       "    </tr>\n",
       "  </tbody>\n",
       "</table>\n",
       "</div>"
      ],
      "text/plain": [
       "   id_ts  total_score_id   title decrease  base_score_ts   goe  avg_score  \\\n",
       "0      1               1      2A      NaN            3.3  0.66       3.96   \n",
       "1      2               1  3F+3Lo      NaN           10.2 -0.11      10.09   \n",
       "2      3               1     3Lz      NaN            0.0 -1.30       5.19   \n",
       "3      4               1  CCoSp4      NaN            3.5  0.56       4.06   \n",
       "4      5               1   FCSp4      NaN            3.2  0.64       3.84   \n",
       "\n",
       "   id_scores  unit_id  tournament_id  base_score_scores  components_score  \\\n",
       "0          1        1              1              31.99             24.67   \n",
       "1          1        1              1              31.99             24.67   \n",
       "2          1        1              1              31.99             24.67   \n",
       "3          1        1              1              31.99             24.67   \n",
       "4          1        1              1              31.99             24.67   \n",
       "\n",
       "   total_score  elements_score  decreasings_score  starting_place  place  \\\n",
       "0        56.86           33.19                0.0               2      5   \n",
       "1        56.86           33.19                0.0               2      5   \n",
       "2        56.86           33.19                0.0               2      5   \n",
       "3        56.86           33.19                0.0               2      5   \n",
       "4        56.86           33.19                0.0               2      5   \n",
       "\n",
       "         segment_name                                               info  \\\n",
       "0  Короткая программа  x Надбавка за прыжки во второй половине програ...   \n",
       "1  Короткая программа  x Надбавка за прыжки во второй половине програ...   \n",
       "2  Короткая программа  x Надбавка за прыжки во второй половине програ...   \n",
       "3  Короткая программа  x Надбавка за прыжки во второй половине програ...   \n",
       "4  Короткая программа  x Надбавка за прыжки во второй половине програ...   \n",
       "\n",
       "   overall_place  overall_total_score overall_place_str  id_tssu  color  \\\n",
       "0              4               164.44               NaN        1  green   \n",
       "1              4               164.44               NaN        1  green   \n",
       "2              4               164.44               NaN        1  green   \n",
       "3              4               164.44               NaN        1  green   \n",
       "4              4               164.44               NaN        1  green   \n",
       "\n",
       "   school_id  id_tournaments date_start   date_end  origin_id  \n",
       "0      198.0               1 2090-11-29 2090-12-01        2.0  \n",
       "1      198.0               1 2090-11-29 2090-12-01        2.0  \n",
       "2      198.0               1 2090-11-29 2090-12-01        2.0  \n",
       "3      198.0               1 2090-11-29 2090-12-01        2.0  \n",
       "4      198.0               1 2090-11-29 2090-12-01        2.0  "
      ]
     },
     "execution_count": 45,
     "metadata": {},
     "output_type": "execute_result"
    }
   ],
   "source": [
    "main_df.head()"
   ]
  },
  {
   "cell_type": "code",
   "execution_count": null,
   "id": "3d3e11c6-1e29-4780-9cb7-c08c93b68eed",
   "metadata": {},
   "outputs": [],
   "source": []
  },
  {
   "cell_type": "code",
   "execution_count": null,
   "id": "a3a35e06-2d98-4d66-909c-91d5e29c2d38",
   "metadata": {},
   "outputs": [],
   "source": []
  },
  {
   "cell_type": "code",
   "execution_count": null,
   "id": "9a77d28e-3e34-427d-b415-dbcd37f0ad11",
   "metadata": {},
   "outputs": [],
   "source": []
  },
  {
   "cell_type": "code",
   "execution_count": null,
   "id": "7b9158a0-acee-4a85-87ab-6ca840e71efa",
   "metadata": {},
   "outputs": [],
   "source": []
  },
  {
   "cell_type": "code",
   "execution_count": null,
   "id": "ba1115f9-30fb-4e2b-92ed-67c1065c7627",
   "metadata": {},
   "outputs": [],
   "source": []
  },
  {
   "cell_type": "code",
   "execution_count": null,
   "id": "88fe5909-48aa-4c69-b58c-9a7315a29b64",
   "metadata": {},
   "outputs": [],
   "source": []
  },
  {
   "cell_type": "code",
   "execution_count": null,
   "id": "95d290c6-6582-49bf-ad94-dade17cacb3a",
   "metadata": {},
   "outputs": [],
   "source": [
    "features_to_delete = ['id_scores', 'id_tssu']"
   ]
  },
  {
   "cell_type": "markdown",
   "id": "48953435-f924-41a0-ad43-2fc6354868d7",
   "metadata": {},
   "source": [
    "## Feature engineering"
   ]
  },
  {
   "cell_type": "code",
   "execution_count": 40,
   "id": "a6973c91-0fb8-4ba2-b58f-94703a10a40c",
   "metadata": {},
   "outputs": [],
   "source": [
    "main_df['date_start'] = pd.to_datetime(main_df['date_start'], format='%Y-%m-%d')\n",
    "main_df['date_end'] = pd.to_datetime(main_df['date_end'], format='%Y-%m-%d')"
   ]
  },
  {
   "cell_type": "code",
   "execution_count": 43,
   "id": "0733a454-1644-44d1-a864-ea9ae2f92250",
   "metadata": {},
   "outputs": [
    {
     "data": {
      "text/plain": [
       "Timestamp('2089-09-20 00:00:00')"
      ]
     },
     "metadata": {},
     "output_type": "display_data"
    },
    {
     "data": {
      "text/plain": [
       "Timestamp('2092-04-29 00:00:00')"
      ]
     },
     "metadata": {},
     "output_type": "display_data"
    },
    {
     "data": {
      "text/plain": [
       "Timestamp('2089-09-23 00:00:00')"
      ]
     },
     "metadata": {},
     "output_type": "display_data"
    },
    {
     "data": {
      "text/plain": [
       "Timestamp('2092-05-03 00:00:00')"
      ]
     },
     "metadata": {},
     "output_type": "display_data"
    }
   ],
   "source": [
    "display(main_df['date_start'].min(), main_df['date_start'].max())\n",
    "display(main_df['date_end'].min(), main_df['date_end'].max())"
   ]
  }
 ],
 "metadata": {
  "kernelspec": {
   "display_name": "Python 3 (ipykernel)",
   "language": "python",
   "name": "python3"
  },
  "language_info": {
   "codemirror_mode": {
    "name": "ipython",
    "version": 3
   },
   "file_extension": ".py",
   "mimetype": "text/x-python",
   "name": "python",
   "nbconvert_exporter": "python",
   "pygments_lexer": "ipython3",
   "version": "3.10.12"
  }
 },
 "nbformat": 4,
 "nbformat_minor": 5
}
